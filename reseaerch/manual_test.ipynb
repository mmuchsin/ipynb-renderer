{
 "cells": [
  {
   "cell_type": "code",
   "execution_count": 3,
   "metadata": {},
   "outputs": [],
   "source": [
    "from ipynb_renderer import render_youtube"
   ]
  },
  {
   "cell_type": "code",
   "execution_count": 5,
   "metadata": {},
   "outputs": [
    {
     "name": "stdout",
     "output_type": "stream",
     "text": [
      "Unexpected exception formatting exception. Falling back to standard exception\n"
     ]
    },
    {
     "name": "stderr",
     "output_type": "stream",
     "text": [
      "Traceback (most recent call last):\n",
      "  File \"/config/.conda/envs/env/lib/python3.8/site-packages/IPython/core/interactiveshell.py\", line 3433, in run_code\n",
      "    exec(code_obj, self.user_global_ns, self.user_ns)\n",
      "  File \"/tmp/ipykernel_12591/4104072623.py\", line 1, in <module>\n",
      "    render_youtube('a')\n",
      "  File \"/config/.conda/envs/env/lib/python3.8/site-packages/ensure/main.py\", line 849, in __call__\n",
      "    return_val = self.f(*args, **kwargs)\n",
      "  File \"/config/workspace/src/ipynb_renderer/youtube.py\", line 74, in render_youtube\n",
      "  File \"/config/workspace/src/ipynb_renderer/youtube.py\", line 52, in render_youtube\n",
      "    time = get_time(URL)\n",
      "  File \"/config/.conda/envs/env/lib/python3.8/site-packages/py_youtube/pyyoutube.py\", line 49, in __init__\n",
      "    res = urllib.request.Request(link, headers=headers)\n",
      "  File \"/config/.conda/envs/env/lib/python3.8/urllib/request.py\", line 328, in __init__\n",
      "    self.full_url = url\n",
      "  File \"/config/.conda/envs/env/lib/python3.8/urllib/request.py\", line 354, in full_url\n",
      "    self._parse()\n",
      "  File \"/config/.conda/envs/env/lib/python3.8/urllib/request.py\", line 383, in _parse\n",
      "    raise ValueError(\"unknown url type: %r\" % self.full_url)\n",
      "ValueError: unknown url type: 'a'\n",
      "\n",
      "During handling of the above exception, another exception occurred:\n",
      "\n",
      "Traceback (most recent call last):\n",
      "  File \"/config/.conda/envs/env/lib/python3.8/site-packages/IPython/core/interactiveshell.py\", line 2052, in showtraceback\n",
      "    stb = self.InteractiveTB.structured_traceback(\n",
      "  File \"/config/.conda/envs/env/lib/python3.8/site-packages/IPython/core/ultratb.py\", line 1112, in structured_traceback\n",
      "    return FormattedTB.structured_traceback(\n",
      "  File \"/config/.conda/envs/env/lib/python3.8/site-packages/IPython/core/ultratb.py\", line 1006, in structured_traceback\n",
      "    return VerboseTB.structured_traceback(\n",
      "  File \"/config/.conda/envs/env/lib/python3.8/site-packages/IPython/core/ultratb.py\", line 859, in structured_traceback\n",
      "    formatted_exception = self.format_exception_as_a_whole(etype, evalue, etb, number_of_lines_of_context,\n",
      "  File \"/config/.conda/envs/env/lib/python3.8/site-packages/IPython/core/ultratb.py\", line 812, in format_exception_as_a_whole\n",
      "    frames.append(self.format_record(r))\n",
      "  File \"/config/.conda/envs/env/lib/python3.8/site-packages/IPython/core/ultratb.py\", line 730, in format_record\n",
      "    result += ''.join(_format_traceback_lines(frame_info.lines, Colors, self.has_colors, lvals))\n",
      "  File \"/config/.conda/envs/env/lib/python3.8/site-packages/stack_data/utils.py\", line 144, in cached_property_wrapper\n",
      "    value = obj.__dict__[self.func.__name__] = self.func(obj)\n",
      "  File \"/config/.conda/envs/env/lib/python3.8/site-packages/stack_data/core.py\", line 720, in lines\n",
      "    pieces = self.included_pieces\n",
      "  File \"/config/.conda/envs/env/lib/python3.8/site-packages/stack_data/utils.py\", line 144, in cached_property_wrapper\n",
      "    value = obj.__dict__[self.func.__name__] = self.func(obj)\n",
      "  File \"/config/.conda/envs/env/lib/python3.8/site-packages/stack_data/core.py\", line 667, in included_pieces\n",
      "    pos = scope_pieces.index(self.executing_piece)\n",
      "  File \"/config/.conda/envs/env/lib/python3.8/site-packages/stack_data/utils.py\", line 144, in cached_property_wrapper\n",
      "    value = obj.__dict__[self.func.__name__] = self.func(obj)\n",
      "  File \"/config/.conda/envs/env/lib/python3.8/site-packages/stack_data/core.py\", line 646, in executing_piece\n",
      "    return only(\n",
      "  File \"/config/.conda/envs/env/lib/python3.8/site-packages/executing/executing.py\", line 190, in only\n",
      "    raise NotOneValueFound('Expected one value, found 0')\n",
      "executing.executing.NotOneValueFound: Expected one value, found 0\n"
     ]
    }
   ],
   "source": [
    "render_youtube('a')"
   ]
  },
  {
   "cell_type": "code",
   "execution_count": null,
   "metadata": {},
   "outputs": [],
   "source": []
  }
 ],
 "metadata": {
  "kernelspec": {
   "display_name": "Python 3.8.13 ('env')",
   "language": "python",
   "name": "python3"
  },
  "language_info": {
   "codemirror_mode": {
    "name": "ipython",
    "version": 3
   },
   "file_extension": ".py",
   "mimetype": "text/x-python",
   "name": "python",
   "nbconvert_exporter": "python",
   "pygments_lexer": "ipython3",
   "version": "3.8.13"
  },
  "orig_nbformat": 4,
  "vscode": {
   "interpreter": {
    "hash": "df3e26df656a624c1f45f118a402dea60bd0df5b566cbdb1f14ba929750b9e1d"
   }
  }
 },
 "nbformat": 4,
 "nbformat_minor": 2
}
